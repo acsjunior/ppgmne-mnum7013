{
 "cells": [
  {
   "cell_type": "code",
   "execution_count": 1,
   "metadata": {},
   "outputs": [],
   "source": [
    "from copy import copy\n",
    "import logging\n",
    "\n",
    "logging.basicConfig(level = logging.DEBUG)"
   ]
  },
  {
   "cell_type": "markdown",
   "metadata": {},
   "source": [
    "# Preparação dos dados de entrada"
   ]
  },
  {
   "cell_type": "code",
   "execution_count": 2,
   "metadata": {},
   "outputs": [],
   "source": [
    "S = {'h': 10, 'w': 16}\n",
    "\n",
    "beta = 0.1\n",
    "\n",
    "b = [2,2,2,2]\n",
    "\n",
    "pi_max = beta*S['h']*S['w']\n",
    "\n",
    "R = {}\n",
    "R[0] = {'h': 3, 'w': 8}\n",
    "R[1] = {'h': 7, 'w': 5}\n",
    "R[2] = {'h': 3, 'w': 6}\n",
    "R[3] = {'h': 4, 'w': 6}"
   ]
  },
  {
   "cell_type": "markdown",
   "metadata": {},
   "source": [
    "# Funções"
   ]
  },
  {
   "cell_type": "code",
   "execution_count": 3,
   "metadata": {},
   "outputs": [],
   "source": [
    "def __validar_T(T, pi_max, b, S):\n",
    "    v1 = sum([T['g'][x] <= b[x] for x in T['g']]) > 0 # verifica respeita b\n",
    "    v2 = T['d']['p'] <= pi_max # verifica se respeita beta\n",
    "    v3 = T['d']['h'] <= S['h'] and T['d']['w'] <= S['w'] # verifica se respeita S\n",
    "    return v1 and v2 and v3\n",
    "    \n",
    "def obter_T(h0, h1, w0, w1, g0, g1, p0, p1, o, pi_max, b, S):\n",
    "    T = {}\n",
    "    T['d'] = {}\n",
    "    if o == 'h':\n",
    "        T['d']['h'] = max(h0, h1)\n",
    "        T['d']['w'] = w0 + w1\n",
    "    else:\n",
    "        T['d']['h'] = h0 + h1\n",
    "        T['d']['w'] = max(w0, w1)\n",
    "        \n",
    "    T['d']['p'] = T['d']['h']*T['d']['w'] - h0*w0 - h1*w1 + p0 + p1\n",
    "    T['g'] = {k: g0.get(k, 0) + g1.get(k, 0) for k in set(g0)}\n",
    "    \n",
    "    return T, __validar_T(T, pi_max, b, S)"
   ]
  },
  {
   "cell_type": "markdown",
   "metadata": {},
   "source": [
    "# Início do algoritmo"
   ]
  },
  {
   "cell_type": "code",
   "execution_count": 6,
   "metadata": {},
   "outputs": [],
   "source": [
    "L = [{}]\n",
    "for i in R:\n",
    "    L[0][i] = {}\n",
    "    L[0][i]['d'] = {}\n",
    "    L[0][i]['d']['h'] = R[i]['h']\n",
    "    L[0][i]['d']['w'] = R[i]['w']\n",
    "    L[0][i]['d']['p'] = 0\n",
    "    L[0][i]['g'] = {}\n",
    "    for j in R:\n",
    "        if i == j:\n",
    "            L[0][i]['g'][j] = 1\n",
    "        else:\n",
    "            L[0][i]['g'][j] = 0\n",
    "    L[0][i]['c'] = (i, None, None)"
   ]
  },
  {
   "cell_type": "code",
   "execution_count": 7,
   "metadata": {},
   "outputs": [],
   "source": [
    "F = copy(L)\n",
    "k = 0"
   ]
  },
  {
   "cell_type": "code",
   "execution_count": 8,
   "metadata": {},
   "outputs": [
    {
     "name": "stderr",
     "output_type": "stream",
     "text": [
      "INFO:root:Iteração 1\n",
      "INFO:root:Iteração 2\n",
      "INFO:root:Iteração 3\n",
      "INFO:root:Iteração 4\n"
     ]
    }
   ],
   "source": [
    "while len(F[k]) > 0:\n",
    "    k += 1\n",
    "    logging.info(f'Iteração {k}')\n",
    "    \n",
    "    C = [(i,j,o) for i in F[k-1].keys() for j in F[k-1].keys() for o in ['h', 'v']]\n",
    "\n",
    "    if k > 1:\n",
    "        C += [(i,j,o) for i in F[k-1].keys() for j in F[k-2].keys() for o in ['h', 'v']]\n",
    "        \n",
    "    idx = max(list(L[k-1].keys()))\n",
    "    F.append({})\n",
    "    \n",
    "    for c in C:\n",
    "        r0 = L[k-1][c[0]]\n",
    "        r1 = L[k-1][c[1]]\n",
    "        T, valido = obter_T(\n",
    "            h0=r0['d']['h'], \n",
    "            h1=r1['d']['h'], \n",
    "            w0=r0['d']['w'], \n",
    "            w1=r1['d']['w'], \n",
    "            p0=r0['d']['p'],\n",
    "            p1=r1['d']['p'],\n",
    "            g0=r0['g'], \n",
    "            g1=r1['g'],\n",
    "            o=c[2], \n",
    "            pi_max=pi_max, \n",
    "            b=b, \n",
    "            S=S)\n",
    "        if valido:\n",
    "            lst_f = [{'d':F[k][s]['d'], 'g':F[k][s]['g']} for s in F[k]] if len(F[k]) > 0 else []\n",
    "            lst_l = [{'d':L[k-1][r]['d'], 'g': L[k-1][r]['g']} for r in L[k-1]]\n",
    "            if {'d':T['d'], 'g':T['g']} not in lst_l + lst_f:\n",
    "                T['c'] = c\n",
    "                idx += 1\n",
    "                F[k][idx] = T\n",
    "                \n",
    "    L.append({**L[k-1], **F[k]})\n",
    "logging.info(f'Fim!')"
   ]
  },
  {
   "cell_type": "code",
   "execution_count": null,
   "metadata": {},
   "outputs": [],
   "source": []
  },
  {
   "cell_type": "code",
   "execution_count": null,
   "metadata": {},
   "outputs": [],
   "source": []
  },
  {
   "cell_type": "code",
   "execution_count": null,
   "metadata": {},
   "outputs": [],
   "source": [
    "if len(F[k]) > 0:\n",
    "    k += 1\n",
    "else:\n",
    "    print('Fim!')"
   ]
  },
  {
   "cell_type": "code",
   "execution_count": null,
   "metadata": {},
   "outputs": [],
   "source": [
    "C = [(i,j,o) for i in F[k-1].keys() for j in F[k-1].keys() for o in ['h', 'v']]\n",
    "\n",
    "if k > 1:\n",
    "    C += [(i,j,o) for i in F[k-1].keys() for j in F[k-2].keys() for o in ['h', 'v']]"
   ]
  },
  {
   "cell_type": "code",
   "execution_count": null,
   "metadata": {},
   "outputs": [],
   "source": [
    "idx = max(list(L[k-1].keys()))\n",
    "F.append({})"
   ]
  },
  {
   "cell_type": "code",
   "execution_count": null,
   "metadata": {},
   "outputs": [],
   "source": [
    "for c in C:\n",
    "    r0 = L[k-1][c[0]]\n",
    "    r1 = L[k-1][c[1]]\n",
    "    T, valido = obter_T(\n",
    "        h0=r0['d']['h'], \n",
    "        h1=r1['d']['h'], \n",
    "        w0=r0['d']['w'], \n",
    "        w1=r1['d']['w'], \n",
    "        p0=r0['d']['p'],\n",
    "        p1=r1['d']['p'],\n",
    "        g0=r0['g'], \n",
    "        g1=r1['g'],\n",
    "        o=c[2], \n",
    "        pi_max=pi_max, \n",
    "        b=b, \n",
    "        S=S)\n",
    "    if valido:\n",
    "        lst_f = [{'d':F[k][s]['d'], 'g':F[k][s]['g']} for s in F[k]] if len(F[k]) > 0 else []\n",
    "        lst_l = [{'d':L[k-1][r]['d'], 'g': L[k-1][r]['g']} for r in L[k-1]]\n",
    "        if {'d':T['d'], 'g':T['g']} not in lst_l + lst_f:\n",
    "            T['c'] = c\n",
    "            idx += 1\n",
    "            F[k][idx] = T"
   ]
  },
  {
   "cell_type": "code",
   "execution_count": null,
   "metadata": {},
   "outputs": [],
   "source": [
    "L.append({**L[k-1], **F[k]})"
   ]
  },
  {
   "cell_type": "code",
   "execution_count": null,
   "metadata": {},
   "outputs": [],
   "source": [
    "len(L[k])"
   ]
  },
  {
   "cell_type": "code",
   "execution_count": null,
   "metadata": {},
   "outputs": [],
   "source": [
    "len(F[k])"
   ]
  },
  {
   "cell_type": "code",
   "execution_count": null,
   "metadata": {},
   "outputs": [],
   "source": [
    "len(F[k-1])"
   ]
  },
  {
   "cell_type": "code",
   "execution_count": null,
   "metadata": {},
   "outputs": [],
   "source": []
  },
  {
   "cell_type": "code",
   "execution_count": null,
   "metadata": {},
   "outputs": [],
   "source": []
  },
  {
   "cell_type": "code",
   "execution_count": null,
   "metadata": {},
   "outputs": [],
   "source": []
  },
  {
   "cell_type": "code",
   "execution_count": null,
   "metadata": {},
   "outputs": [],
   "source": []
  },
  {
   "cell_type": "code",
   "execution_count": null,
   "metadata": {},
   "outputs": [],
   "source": []
  },
  {
   "cell_type": "code",
   "execution_count": null,
   "metadata": {},
   "outputs": [],
   "source": []
  },
  {
   "cell_type": "code",
   "execution_count": null,
   "metadata": {},
   "outputs": [],
   "source": []
  }
 ],
 "metadata": {
  "kernelspec": {
   "display_name": "Python 3",
   "language": "python",
   "name": "python3"
  },
  "language_info": {
   "codemirror_mode": {
    "name": "ipython",
    "version": 3
   },
   "file_extension": ".py",
   "mimetype": "text/x-python",
   "name": "python",
   "nbconvert_exporter": "python",
   "pygments_lexer": "ipython3",
   "version": "3.8.10"
  }
 },
 "nbformat": 4,
 "nbformat_minor": 5
}
