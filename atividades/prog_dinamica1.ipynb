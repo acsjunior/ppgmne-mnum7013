{
 "cells": [
  {
   "cell_type": "code",
   "execution_count": null,
   "id": "091bf201",
   "metadata": {},
   "outputs": [],
   "source": [
    "# https://www.youtube.com/watch?v=1wIGa5zCtHQ"
   ]
  },
  {
   "cell_type": "code",
   "execution_count": 1,
   "id": "3df2e3d7",
   "metadata": {},
   "outputs": [
    {
     "name": "stdout",
     "output_type": "stream",
     "text": [
      "6765\n",
      "Chamadas: 13529\n"
     ]
    }
   ],
   "source": [
    "# Fibonacci Naïve Method\n",
    "\n",
    "calls = 0\n",
    "def fibonacci(n):\n",
    "    global calls\n",
    "    calls += 1\n",
    "    \n",
    "    f = 0\n",
    "    if n <= 2:\n",
    "        f = 1\n",
    "    else:\n",
    "        f = fibonacci(n-2) + fibonacci(n-1)\n",
    "    return f\n",
    "\n",
    "print(fibonacci(20))\n",
    "print(f'Chamadas: {calls}')"
   ]
  },
  {
   "cell_type": "code",
   "execution_count": 2,
   "id": "85d74b0c",
   "metadata": {},
   "outputs": [
    {
     "name": "stdout",
     "output_type": "stream",
     "text": [
      "6765\n",
      "Chamadas: 37\n"
     ]
    }
   ],
   "source": [
    "# Fibonacci com memoization (complexidade O(n))\n",
    "\n",
    "# Top-down (parte do maior problema e vai resolvendo os menores)\n",
    "\n",
    "calls = 0\n",
    "memo = {}\n",
    "def fibonacci_memo(n):\n",
    "    global calls\n",
    "    calls += 1\n",
    "    \n",
    "    if n in memo:\n",
    "        return memo[n]\n",
    "    \n",
    "    if n <= 2:\n",
    "        f = 1\n",
    "    else:\n",
    "        f = fibonacci_memo(n-2) + fibonacci_memo(n-1)  \n",
    "    memo[n] = f\n",
    "    return f\n",
    "\n",
    "print(fibonacci_memo(20))\n",
    "print(f'Chamadas: {calls}')"
   ]
  },
  {
   "cell_type": "code",
   "execution_count": 3,
   "id": "b6a5ad5d",
   "metadata": {},
   "outputs": [
    {
     "name": "stdout",
     "output_type": "stream",
     "text": [
      "6765\n",
      "Chamadas: 1\n"
     ]
    }
   ],
   "source": [
    "# Fibonacci bottom-up (parte do menor problema e vai resolvendo os maiores)\n",
    "\n",
    "calls = 0\n",
    "fib = {}\n",
    "def fibonacci_bu(n):\n",
    "    global calls\n",
    "    calls += 1\n",
    "    \n",
    "    for k in range(n+1):\n",
    "        if k <= 2:\n",
    "            f = 1\n",
    "        else:\n",
    "            f = fib[k-2] + fib[k-1]\n",
    "        fib[k] = f\n",
    "    return fib[n]\n",
    "\n",
    "print(fibonacci_bu(20))\n",
    "print(f'Chamadas: {calls}')"
   ]
  },
  {
   "cell_type": "code",
   "execution_count": null,
   "id": "89a12c5f",
   "metadata": {},
   "outputs": [],
   "source": []
  }
 ],
 "metadata": {
  "kernelspec": {
   "display_name": "Python 3",
   "language": "python",
   "name": "python3"
  },
  "language_info": {
   "codemirror_mode": {
    "name": "ipython",
    "version": 3
   },
   "file_extension": ".py",
   "mimetype": "text/x-python",
   "name": "python",
   "nbconvert_exporter": "python",
   "pygments_lexer": "ipython3",
   "version": "3.8.10"
  }
 },
 "nbformat": 4,
 "nbformat_minor": 5
}
