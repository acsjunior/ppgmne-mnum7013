{
 "cells": [
  {
   "cell_type": "markdown",
   "id": "36491262",
   "metadata": {},
   "source": [
    "# Planejar a produção para os próximos 4 meses\n",
    "\n",
    "|  mês |  previsão |\n",
    "|---|---|\n",
    "|  1 |  30 |\n",
    "|  2 |  20 |\n",
    "|  3 |  60 |\n",
    "|  4 |  10 |\n",
    "\n",
    "**Custo**: 2000/ton\n",
    "\n",
    "**Lotes de**: 10, 20, 30,...,80\n",
    "\n",
    "**Custo de setup**: 10000\n",
    "\n",
    "**Estoque inicial**: 0\n",
    "\n",
    "**Estoque final**: 10\n",
    "\n",
    "**Custo de estocagem**: 200/ton/mês"
   ]
  },
  {
   "cell_type": "code",
   "execution_count": 1,
   "id": "42bb680d",
   "metadata": {},
   "outputs": [],
   "source": [
    "def calcular_meses(max_mes, demandas, memo, custo_setup, custo_producao, custo_estocagem):\n",
    "    \n",
    "    demanda = demandas[max_mes] # obtem a demanda do mês\n",
    "    \n",
    "    if max_mes == 1: # se for o primeiro mês, considera como zero os valores do mês anterior\n",
    "        estoques_iniciais = [0]\n",
    "        custos_iniciais = [0]\n",
    "    elif (max_mes-1) in memo: # se o mês anterior estiver na memória, utiliza os valores\n",
    "        estoques_iniciais = memo[max_mes-1]['estoque_final']\n",
    "        custos_iniciais = memo[max_mes-1]['custo_final']\n",
    "    else: # se o mês anterior não estiver na memória, calcula o mês anterior e utiliza os valores\n",
    "        memo = calcular_meses(max_mes-1, demandas, memo, custo_setup, custo_producao, custo_estocagem)\n",
    "        estoques_iniciais = memo[max_mes-1]['estoque_final']\n",
    "        custos_iniciais = memo[max_mes-1]['custo_final']\n",
    "    \n",
    "    dict_mes = {} # cria um dicionário para armazenar os dados do mês atual\n",
    "    dict_mes['estoque_inicial'] = []\n",
    "    dict_mes['custo_inicial'] = []\n",
    "    dict_mes['lote_fabricado'] = []\n",
    "    dict_mes['demanda'] = []\n",
    "    dict_mes['estoque_final'] = []\n",
    "    dict_mes['custo_final'] = []\n",
    "\n",
    "    for i in range(len(estoques_iniciais)): # para cada estoque inicial possível...\n",
    "        est_inicial = estoques_iniciais[i] \n",
    "        custo_inicial = custos_iniciais[i]\n",
    "\n",
    "        # considera somente opções de lotes que atendem a demanda quando somados ao estoque inicial\n",
    "        lotes_fabr = [l for l in lotes if (est_inicial + l) >= demanda]\n",
    "\n",
    "        # para cada lote possível...\n",
    "        for lote_fabr in lotes_fabr:\n",
    "            \n",
    "            # calcula o estoque final e o custo final\n",
    "            est_final = est_inicial + lote_fabr - demanda\n",
    "            custo_final = custo_inicial + custo_setup + custo_producao*lote_fabr + custo_estocagem*est_final\n",
    "            \n",
    "            # armazena todos os valores referentes ao mês\n",
    "            dict_mes['estoque_inicial'].append(est_inicial)\n",
    "            dict_mes['custo_inicial'].append(custo_inicial)\n",
    "            dict_mes['lote_fabricado'].append(lote_fabr)\n",
    "            dict_mes['demanda'].append(demanda)\n",
    "            dict_mes['estoque_final'].append(est_final)\n",
    "            dict_mes['custo_final'].append(custo_final)  \n",
    "    \n",
    "    # armazena os valores do mês na memória\n",
    "    memo[max_mes] = dict_mes\n",
    "    \n",
    "    return memo"
   ]
  },
  {
   "cell_type": "code",
   "execution_count": 2,
   "id": "951cf14d",
   "metadata": {},
   "outputs": [],
   "source": [
    "lotes = [l for l in range(0, 81, 10)] # lotes possíveis\n",
    "demandas = {1: 30, 2: 20, 3: 60, 4: 10} # demandas\n",
    "custo_prod = 2000 # custo de produção\n",
    "custo_est = 200 # custo de estocagem\n",
    "custo_set = 10000 # custo de setup\n",
    "meses = [1,2,3,4]\n",
    "\n",
    "resultados = calcular_meses(max(meses), demandas, {}, custo_set, custo_prod, custo_est)"
   ]
  },
  {
   "cell_type": "code",
   "execution_count": 3,
   "id": "6123f7a1",
   "metadata": {},
   "outputs": [],
   "source": [
    "# Recupera a melhor solução:\n",
    "\n",
    "mes = max(meses)\n",
    "solucao = {}\n",
    "\n",
    "while mes > 0:\n",
    "    if mes == max(meses):\n",
    "        idx_best = resultados[mes]['custo_final'].index(min(resultados[mes]['custo_final']))\n",
    "    else:\n",
    "        idx_best = resultados[mes]['custo_final'].index(solucao[mes+1]['custo_inicial'])\n",
    "    \n",
    "    solucao[mes] = {}\n",
    "    solucao[mes]['estoque_inicial'] = resultados[mes]['estoque_inicial'][idx_best]\n",
    "    solucao[mes]['custo_inicial'] = resultados[mes]['custo_inicial'][idx_best]\n",
    "    solucao[mes]['lote_fabricado'] = resultados[mes]['lote_fabricado'][idx_best]\n",
    "    solucao[mes]['demanda'] = resultados[mes]['demanda'][idx_best]\n",
    "    solucao[mes]['estoque_final'] = resultados[mes]['estoque_final'][idx_best]\n",
    "    solucao[mes]['custo_final'] = resultados[mes]['custo_final'][idx_best]\n",
    "    \n",
    "    mes = mes - 1"
   ]
  },
  {
   "cell_type": "code",
   "execution_count": 4,
   "id": "e20e4240",
   "metadata": {},
   "outputs": [
    {
     "name": "stdout",
     "output_type": "stream",
     "text": [
      "Mês: 1\n",
      "{'estoque_inicial': 0, 'custo_inicial': 0, 'lote_fabricado': 30, 'demanda': 30, 'estoque_final': 0, 'custo_final': 70000} \n",
      "\n",
      "Mês: 2\n",
      "{'estoque_inicial': 0, 'custo_inicial': 70000, 'lote_fabricado': 20, 'demanda': 20, 'estoque_final': 0, 'custo_final': 120000} \n",
      "\n",
      "Mês: 3\n",
      "{'estoque_inicial': 0, 'custo_inicial': 120000, 'lote_fabricado': 60, 'demanda': 60, 'estoque_final': 0, 'custo_final': 250000} \n",
      "\n",
      "Mês: 4\n",
      "{'estoque_inicial': 0, 'custo_inicial': 250000, 'lote_fabricado': 10, 'demanda': 10, 'estoque_final': 0, 'custo_final': 280000} \n",
      "\n"
     ]
    }
   ],
   "source": [
    "for m in meses:\n",
    "    print(f'Mês: {m}')\n",
    "    print(solucao[m], '\\n')"
   ]
  },
  {
   "cell_type": "code",
   "execution_count": null,
   "id": "6065009b",
   "metadata": {},
   "outputs": [],
   "source": []
  }
 ],
 "metadata": {
  "kernelspec": {
   "display_name": "Python 3",
   "language": "python",
   "name": "python3"
  },
  "language_info": {
   "codemirror_mode": {
    "name": "ipython",
    "version": 3
   },
   "file_extension": ".py",
   "mimetype": "text/x-python",
   "name": "python",
   "nbconvert_exporter": "python",
   "pygments_lexer": "ipython3",
   "version": "3.8.10"
  }
 },
 "nbformat": 4,
 "nbformat_minor": 5
}
