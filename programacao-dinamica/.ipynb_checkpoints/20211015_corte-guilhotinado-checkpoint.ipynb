{
 "cells": [
  {
   "cell_type": "markdown",
   "id": "5067366b",
   "metadata": {},
   "source": [
    "## Funções"
   ]
  },
  {
   "cell_type": "code",
   "execution_count": 1,
   "id": "81dfd5bf",
   "metadata": {},
   "outputs": [],
   "source": [
    "def calcular_dimensoes(h0, h1, w0, w1, o):\n",
    "    dim = {}\n",
    "    if o == 'h':\n",
    "        dim['h'] = max(h0, h1)\n",
    "        dim['w'] = w0 + w1\n",
    "    else:\n",
    "        dim['h'] = h0 + h1\n",
    "        dim['w'] = max(w0, w1)\n",
    "    return dim\n",
    "\n",
    "\n",
    "def calcular_perda_interna(h0, h1, w0, w1, d):\n",
    "    return d['h']*d['w'] - h0*w0 - h1*w1\n",
    "\n",
    "\n",
    "def gerar_combinacoes(padroes, comb_anteriores):\n",
    "    np = len(padroes)\n",
    "    return [(i,j,o) for i in range(np) for j in range(np) for o in ['h', 'v'] if (i,j,o) not in comb_anteriores]"
   ]
  },
  {
   "cell_type": "markdown",
   "id": "8fe103f1",
   "metadata": {},
   "source": [
    "## Entradas"
   ]
  },
  {
   "cell_type": "code",
   "execution_count": 2,
   "id": "9e98c3fb",
   "metadata": {},
   "outputs": [],
   "source": [
    "chapa = {'h': 10, 'w': 16}\n",
    "\n",
    "pecas = {}\n",
    "pecas[0] = {'h': 3, 'w': 8, 'b': 2}\n",
    "pecas[1] = {'h': 7, 'w': 5, 'b': 2}\n",
    "pecas[2] = {'h': 3, 'w': 6, 'b': 2}\n",
    "pecas[3] = {'h': 4, 'w': 6, 'b': 2}\n",
    "\n",
    "beta = 0.1"
   ]
  },
  {
   "cell_type": "markdown",
   "id": "306dbc15",
   "metadata": {},
   "source": [
    "## Inicialização do algoritmo"
   ]
  },
  {
   "cell_type": "code",
   "execution_count": 3,
   "id": "05c4f072",
   "metadata": {},
   "outputs": [],
   "source": [
    "tolerancia = chapa['h']*chapa['w'] * beta\n",
    "\n",
    "lst_comb = []\n",
    "\n",
    "k = 0\n",
    "\n",
    "padroes = []\n",
    "\n",
    "for p in pecas:\n",
    "    padroes.append({})\n",
    "    padroes[p]['k'] = k\n",
    "    padroes[p]['g'] = (p, None, None)\n",
    "    padroes[p]['h'] = pecas[p]['h']\n",
    "    padroes[p]['w'] = pecas[p]['w']\n",
    "    padroes[p]['p'] = 0"
   ]
  },
  {
   "cell_type": "code",
   "execution_count": 4,
   "id": "8bf7e471",
   "metadata": {},
   "outputs": [
    {
     "data": {
      "text/plain": [
       "[{'k': 0, 'g': (0, None, None), 'h': 3, 'w': 8, 'p': 0},\n",
       " {'k': 0, 'g': (1, None, None), 'h': 7, 'w': 5, 'p': 0},\n",
       " {'k': 0, 'g': (2, None, None), 'h': 3, 'w': 6, 'p': 0},\n",
       " {'k': 0, 'g': (3, None, None), 'h': 4, 'w': 6, 'p': 0}]"
      ]
     },
     "execution_count": 4,
     "metadata": {},
     "output_type": "execute_result"
    }
   ],
   "source": [
    "padroes"
   ]
  },
  {
   "cell_type": "markdown",
   "id": "1b45f565",
   "metadata": {},
   "source": [
    "## Processo iterativo"
   ]
  },
  {
   "cell_type": "code",
   "execution_count": null,
   "id": "518fa28a",
   "metadata": {},
   "outputs": [],
   "source": [
    "k = 1"
   ]
  },
  {
   "cell_type": "code",
   "execution_count": null,
   "id": "17954cb9",
   "metadata": {},
   "outputs": [],
   "source": [
    "combinacoes = gerar_combinacoes(padroes, lst_comb)"
   ]
  },
  {
   "cell_type": "code",
   "execution_count": null,
   "id": "005e50f9",
   "metadata": {},
   "outputs": [],
   "source": [
    "len(combinacoes)"
   ]
  },
  {
   "cell_type": "code",
   "execution_count": null,
   "id": "f7932e2f",
   "metadata": {},
   "outputs": [],
   "source": [
    "padroes"
   ]
  },
  {
   "cell_type": "code",
   "execution_count": null,
   "id": "29e35c74",
   "metadata": {},
   "outputs": [],
   "source": [
    "[p for p in padroes if p['k'] == 1]"
   ]
  },
  {
   "cell_type": "code",
   "execution_count": null,
   "id": "153d2d50",
   "metadata": {},
   "outputs": [],
   "source": [
    "lst_padroes = range(len(padroes))\n",
    "\n",
    "for i in lst_padroes:\n",
    "    for j in lst_padroes\n",
    "    \n",
    "    \n",
    "\n",
    "\n",
    "\n",
    "\n",
    "for comb in combinacoes:\n",
    "    d = calcular_dimensoes(\n",
    "        h0=padroes[comb[0]]['h'], \n",
    "        h1=padroes[comb[1]]['h'], \n",
    "        w0=padroes[comb[0]]['w'], \n",
    "        w1=padroes[comb[1]]['w'], \n",
    "        o=comb[2])\n",
    "\n",
    "    p = calcular_perda_interna(\n",
    "        h0=padroes[comb[0]]['h'], \n",
    "        h1=padroes[comb[1]]['h'], \n",
    "        w0=padroes[comb[0]]['w'], \n",
    "        w1=padroes[comb[1]]['w'], \n",
    "        d=d)\n",
    "    \n",
    "    p_acum = p + padroes[0]['p'] + padroes[1]['p']\n",
    "\n",
    "    if p_acum < tolerancia:\n",
    "        if (d['h'] <= chapa['h']) and (d['w'] <= chapa['w']):\n",
    "            padrao = {}\n",
    "            padrao['k'] = k\n",
    "            padrao['g'] = comb\n",
    "            padrao['h'] = d['h']\n",
    "            padrao['w'] = d['w']\n",
    "            padrao['p'] = p_acum\n",
    "            padroes.append(padrao)\n",
    "        \n",
    "lst_comb += combinacoes  "
   ]
  },
  {
   "cell_type": "code",
   "execution_count": null,
   "id": "3c21f5c3",
   "metadata": {},
   "outputs": [],
   "source": [
    "len(lst_comb)"
   ]
  },
  {
   "cell_type": "code",
   "execution_count": null,
   "id": "5a96865d",
   "metadata": {},
   "outputs": [],
   "source": [
    "len(padroes)"
   ]
  },
  {
   "cell_type": "code",
   "execution_count": null,
   "id": "28c169ec",
   "metadata": {},
   "outputs": [],
   "source": []
  }
 ],
 "metadata": {
  "kernelspec": {
   "display_name": "Python 3",
   "language": "python",
   "name": "python3"
  },
  "language_info": {
   "codemirror_mode": {
    "name": "ipython",
    "version": 3
   },
   "file_extension": ".py",
   "mimetype": "text/x-python",
   "name": "python",
   "nbconvert_exporter": "python",
   "pygments_lexer": "ipython3",
   "version": "3.8.10"
  }
 },
 "nbformat": 4,
 "nbformat_minor": 5
}
