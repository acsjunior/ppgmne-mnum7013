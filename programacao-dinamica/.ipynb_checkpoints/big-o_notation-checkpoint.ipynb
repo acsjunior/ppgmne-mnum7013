{
 "cells": [
  {
   "cell_type": "code",
   "execution_count": 16,
   "id": "9e0b69cd",
   "metadata": {},
   "outputs": [],
   "source": [
    "# https://www.youtube.com/watch?v=_pNz-SW4F2s"
   ]
  },
  {
   "cell_type": "markdown",
   "id": "dc999c33",
   "metadata": {},
   "source": [
    "Análise assintótica\n",
    "\n",
    "Big-O Notation: mede a escala de tempo do algoritmo conforme os parâmetros de entrada\n",
    "\n",
    "O(n)\n",
    "\n",
    "Como ler?\n",
    "\n",
    "O algoritmo de fatorial possui O(n) -> crescimento linear\n",
    "\n",
    "\n",
    "\n",
    "Busca binária em uma lista sortida:\n",
    "* Best case scenario: 1 tentativa\n",
    "* Average: numero médio entre todas as tentativas\n",
    "* Worse case scenário: não achei\n",
    "\n",
    "\n",
    "O pior cenário é considerado na análise\n"
   ]
  },
  {
   "cell_type": "markdown",
   "id": "a24736ca",
   "metadata": {},
   "source": [
    "# Receita\n",
    "\n",
    "* Somar cada passo do algoritmo\n",
    "\n",
    "* Ignorar as constantes\n",
    "\n",
    "* Ignorar os fatores multiplicativos\n",
    "\n",
    "* Ignorar os fatores de menor crescimento"
   ]
  },
  {
   "cell_type": "markdown",
   "id": "61f5ae55",
   "metadata": {},
   "source": [
    "# Tipos"
   ]
  },
  {
   "cell_type": "markdown",
   "id": "96d330e6",
   "metadata": {},
   "source": [
    "## Tempo de execução constante - $O(1)$"
   ]
  },
  {
   "cell_type": "code",
   "execution_count": 1,
   "id": "fe0350f2",
   "metadata": {},
   "outputs": [],
   "source": [
    "def celcius_to_farenheit(c):\n",
    "    return c*9.0/5 + 32"
   ]
  },
  {
   "cell_type": "code",
   "execution_count": 2,
   "id": "6d6577ba",
   "metadata": {},
   "outputs": [
    {
     "data": {
      "text/plain": [
       "-0.04000000000000625"
      ]
     },
     "execution_count": 2,
     "metadata": {},
     "output_type": "execute_result"
    }
   ],
   "source": [
    "celcius_to_farenheit(-17.8)"
   ]
  },
  {
   "cell_type": "markdown",
   "id": "de86ed80",
   "metadata": {},
   "source": [
    "## Tempo de execução logarítmico - $O(\\log n)$\n",
    "\n",
    "Log na base 2!"
   ]
  },
  {
   "cell_type": "code",
   "execution_count": 7,
   "id": "05e3e19d",
   "metadata": {},
   "outputs": [],
   "source": [
    "def bisect_search_ineficiente(L, e):\n",
    "    if L == []:\n",
    "        return False\n",
    "    elif len(L) == 1:\n",
    "        return L[0] == e\n",
    "    else:\n",
    "        half = len(L)//2\n",
    "        if L[half] > e:\n",
    "            return bisect_search_ineficiente(L[:half], e)\n",
    "        else:\n",
    "            return bisect_search_ineficiente(L[half:], e)"
   ]
  },
  {
   "cell_type": "code",
   "execution_count": 8,
   "id": "342b6d83",
   "metadata": {},
   "outputs": [
    {
     "data": {
      "text/plain": [
       "False"
      ]
     },
     "execution_count": 8,
     "metadata": {},
     "output_type": "execute_result"
    }
   ],
   "source": [
    "L = [1,3,3,4,4,5,5,7,8,8,9,9,11,13,20]\n",
    "\n",
    "bisect_search_ineficiente(L, 10)"
   ]
  },
  {
   "cell_type": "code",
   "execution_count": 10,
   "id": "26e960fb",
   "metadata": {},
   "outputs": [],
   "source": [
    "def bisect_search_eficiente(L, e):\n",
    "    def helper(L, e, low, high):\n",
    "        if high == low:\n",
    "            return L[low] == e\n",
    "        mid = (low + high) // 2\n",
    "        if L[mid] == e:\n",
    "            return True\n",
    "        elif L[mid] > e:\n",
    "            if low == mid:\n",
    "                return False\n",
    "            else:\n",
    "                return helper(L, e, low, mid-1)\n",
    "        else:\n",
    "            return helper(L, e, mid+1, high)\n",
    "    if len(L) == 0:\n",
    "        return False\n",
    "    else:\n",
    "        return helper(L, e, 0, len(L)-1)"
   ]
  },
  {
   "cell_type": "code",
   "execution_count": 11,
   "id": "ae59f995",
   "metadata": {},
   "outputs": [
    {
     "data": {
      "text/plain": [
       "False"
      ]
     },
     "execution_count": 11,
     "metadata": {},
     "output_type": "execute_result"
    }
   ],
   "source": [
    "bisect_search_eficiente(L, 10)"
   ]
  },
  {
   "cell_type": "markdown",
   "id": "f7b7fac4",
   "metadata": {},
   "source": [
    "## Tempo de execução linear - $O(n)$"
   ]
  },
  {
   "cell_type": "code",
   "execution_count": null,
   "id": "bd2b1ab8",
   "metadata": {},
   "outputs": [],
   "source": [
    "def factorial(n):\n",
    "    answer = 1\n",
    "    while n > 1:\n",
    "        answer *= n\n",
    "        n -= 1\n",
    "    return answer"
   ]
  },
  {
   "cell_type": "code",
   "execution_count": null,
   "id": "4e0623b9",
   "metadata": {},
   "outputs": [],
   "source": [
    "factorial(5)"
   ]
  },
  {
   "cell_type": "code",
   "execution_count": null,
   "id": "5ab1361e",
   "metadata": {},
   "outputs": [],
   "source": [
    "# Busca linear em lista não ordenada:\n",
    "\n",
    "def linear_search(L, e):\n",
    "    found = False\n",
    "    for i in range(len(L)):\n",
    "        if e == L[i]:\n",
    "            found = True\n",
    "    return found"
   ]
  },
  {
   "cell_type": "code",
   "execution_count": null,
   "id": "b089e4e6",
   "metadata": {},
   "outputs": [],
   "source": [
    "L = [1,4,8,3,74,9,13,5,9,3]\n",
    "\n",
    "linear_search(L, 10)"
   ]
  },
  {
   "cell_type": "markdown",
   "id": "2ea29b3a",
   "metadata": {},
   "source": [
    "## Tempo de execução quadrático - $O(n^2)$"
   ]
  },
  {
   "cell_type": "code",
   "execution_count": 12,
   "id": "a6087ec4",
   "metadata": {},
   "outputs": [],
   "source": [
    "# Determina se uma lista é subset de outra:\n",
    "\n",
    "def isSubset(L1, L2):\n",
    "    for e1 in L1:\n",
    "        matched = False\n",
    "        for e2 in L2:\n",
    "            if e1 == e2:\n",
    "                matched = True\n",
    "                break\n",
    "        if not matched:\n",
    "            return False\n",
    "    return True"
   ]
  },
  {
   "cell_type": "code",
   "execution_count": 13,
   "id": "c7cd9cd1",
   "metadata": {},
   "outputs": [
    {
     "data": {
      "text/plain": [
       "True"
      ]
     },
     "execution_count": 13,
     "metadata": {},
     "output_type": "execute_result"
    }
   ],
   "source": [
    "L2 = [1,4,8,3,7,4,9,13,5,20]\n",
    "L1 = [5,9,3]\n",
    "\n",
    "isSubset(L1, L2)"
   ]
  },
  {
   "cell_type": "code",
   "execution_count": 14,
   "id": "6db54f65",
   "metadata": {},
   "outputs": [],
   "source": [
    "# Determina todas as combinações possíveis:\n",
    "\n",
    "def powerSet(L):\n",
    "    res = []\n",
    "    if len(L) == 0:\n",
    "        return [[]]\n",
    "    smaller = powerSet(L[:-1])\n",
    "    extra = L[-1:]\n",
    "    new = []\n",
    "    for small in smaller:\n",
    "        new.append(small+extra)\n",
    "    return smaller+new"
   ]
  },
  {
   "cell_type": "code",
   "execution_count": 15,
   "id": "a4a45df4",
   "metadata": {},
   "outputs": [
    {
     "data": {
      "text/plain": [
       "[[],\n",
       " [1],\n",
       " [3],\n",
       " [1, 3],\n",
       " [5],\n",
       " [1, 5],\n",
       " [3, 5],\n",
       " [1, 3, 5],\n",
       " [7],\n",
       " [1, 7],\n",
       " [3, 7],\n",
       " [1, 3, 7],\n",
       " [5, 7],\n",
       " [1, 5, 7],\n",
       " [3, 5, 7],\n",
       " [1, 3, 5, 7]]"
      ]
     },
     "execution_count": 15,
     "metadata": {},
     "output_type": "execute_result"
    }
   ],
   "source": [
    "L = [1,3,5,7]\n",
    "\n",
    "powerSet(L)"
   ]
  }
 ],
 "metadata": {
  "kernelspec": {
   "display_name": "Python 3",
   "language": "python",
   "name": "python3"
  },
  "language_info": {
   "codemirror_mode": {
    "name": "ipython",
    "version": 3
   },
   "file_extension": ".py",
   "mimetype": "text/x-python",
   "name": "python",
   "nbconvert_exporter": "python",
   "pygments_lexer": "ipython3",
   "version": "3.8.10"
  }
 },
 "nbformat": 4,
 "nbformat_minor": 5
}
