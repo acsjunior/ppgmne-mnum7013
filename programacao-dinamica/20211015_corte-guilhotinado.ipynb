{
 "cells": [
  {
   "cell_type": "markdown",
   "id": "887b8189",
   "metadata": {},
   "source": [
    "## Funções"
   ]
  },
  {
   "cell_type": "code",
   "execution_count": 1,
   "id": "828d290e",
   "metadata": {},
   "outputs": [],
   "source": [
    "def calcular_dimensoes(h0, h1, w0, w1, o):\n",
    "    dim = {}\n",
    "    if o == 'h':\n",
    "        dim['h'] = max(h0, h1)\n",
    "        dim['w'] = w0 + w1\n",
    "    else:\n",
    "        dim['h'] = h0 + h1\n",
    "        dim['w'] = max(w0, w1)\n",
    "    return dim\n",
    "\n",
    "\n",
    "def calcular_perda_interna(h0, h1, w0, w1, d):\n",
    "    return d['h']*d['w'] - h0*w0 - h1*w1"
   ]
  },
  {
   "cell_type": "markdown",
   "id": "7958580d",
   "metadata": {},
   "source": [
    "## Entradas"
   ]
  },
  {
   "cell_type": "code",
   "execution_count": 2,
   "id": "76d977af",
   "metadata": {},
   "outputs": [],
   "source": [
    "chapa = {'h': 10, 'w': 16}\n",
    "\n",
    "pecas = {}\n",
    "pecas[0] = {'h': 3, 'w': 8, 'b': 2}\n",
    "pecas[1] = {'h': 7, 'w': 5, 'b': 2}\n",
    "pecas[2] = {'h': 3, 'w': 6, 'b': 2}\n",
    "pecas[3] = {'h': 4, 'w': 6, 'b': 2}\n",
    "\n",
    "beta = 0.1"
   ]
  },
  {
   "cell_type": "markdown",
   "id": "27d9970a",
   "metadata": {},
   "source": [
    "## Inicialização do algoritmo"
   ]
  },
  {
   "cell_type": "code",
   "execution_count": 3,
   "id": "f79fc6fc",
   "metadata": {},
   "outputs": [],
   "source": [
    "tolerancia = chapa['h']*chapa['w'] * beta\n",
    "\n",
    "lst_comb = []\n",
    "\n",
    "k = 0\n",
    "\n",
    "padroes = [[]]\n",
    "\n",
    "for p in pecas:\n",
    "    padroes[k].append({})\n",
    "    padroes[k][p]['k'] = k\n",
    "    padroes[k][p]['g'] = (p, None, None)\n",
    "    padroes[k][p]['h'] = pecas[p]['h']\n",
    "    padroes[k][p]['w'] = pecas[p]['w']\n",
    "    padroes[k][p]['p'] = 0"
   ]
  },
  {
   "cell_type": "code",
   "execution_count": 4,
   "id": "628350be",
   "metadata": {},
   "outputs": [
    {
     "data": {
      "text/plain": [
       "[[{'k': 0, 'g': (0, None, None), 'h': 3, 'w': 8, 'p': 0},\n",
       "  {'k': 0, 'g': (1, None, None), 'h': 7, 'w': 5, 'p': 0},\n",
       "  {'k': 0, 'g': (2, None, None), 'h': 3, 'w': 6, 'p': 0},\n",
       "  {'k': 0, 'g': (3, None, None), 'h': 4, 'w': 6, 'p': 0}]]"
      ]
     },
     "execution_count": 4,
     "metadata": {},
     "output_type": "execute_result"
    }
   ],
   "source": [
    "padroes"
   ]
  },
  {
   "cell_type": "markdown",
   "id": "feb90cf9",
   "metadata": {},
   "source": [
    "## Processo iterativo"
   ]
  },
  {
   "cell_type": "code",
   "execution_count": 5,
   "id": "241c09a1",
   "metadata": {},
   "outputs": [],
   "source": [
    "k = 1"
   ]
  },
  {
   "cell_type": "code",
   "execution_count": 6,
   "id": "a75c5839",
   "metadata": {},
   "outputs": [
    {
     "data": {
      "text/plain": [
       "0"
      ]
     },
     "execution_count": 6,
     "metadata": {},
     "output_type": "execute_result"
    }
   ],
   "source": [
    "cj_ref = len(padroes)-1\n",
    "cj_ref"
   ]
  },
  {
   "cell_type": "code",
   "execution_count": 7,
   "id": "edf07206",
   "metadata": {},
   "outputs": [
    {
     "data": {
      "text/plain": [
       "[(0, 0)]"
      ]
     },
     "execution_count": 7,
     "metadata": {},
     "output_type": "execute_result"
    }
   ],
   "source": [
    "comb_conjuntos = [(i, cj_ref) for i in range(len(padroes))]\n",
    "comb_conjuntos"
   ]
  },
  {
   "cell_type": "code",
   "execution_count": 8,
   "id": "ace5893b",
   "metadata": {},
   "outputs": [],
   "source": [
    "comb_padroes = []\n",
    "for comb in comb_conjuntos:\n",
    "    cj0 = padroes[comb[0]]\n",
    "    cj1 = padroes[comb[1]]\n",
    "    comb_padroes += [(i,j,o) for i in range(len(cj0)) for j in range(len(cj1)) for o in ['h', 'v']]"
   ]
  },
  {
   "cell_type": "code",
   "execution_count": 9,
   "id": "aab74595",
   "metadata": {},
   "outputs": [
    {
     "data": {
      "text/plain": [
       "[(0, 0, 'h'),\n",
       " (0, 0, 'v'),\n",
       " (0, 1, 'h'),\n",
       " (0, 1, 'v'),\n",
       " (0, 2, 'h'),\n",
       " (0, 2, 'v'),\n",
       " (0, 3, 'h'),\n",
       " (0, 3, 'v'),\n",
       " (1, 0, 'h'),\n",
       " (1, 0, 'v'),\n",
       " (1, 1, 'h'),\n",
       " (1, 1, 'v'),\n",
       " (1, 2, 'h'),\n",
       " (1, 2, 'v'),\n",
       " (1, 3, 'h'),\n",
       " (1, 3, 'v'),\n",
       " (2, 0, 'h'),\n",
       " (2, 0, 'v'),\n",
       " (2, 1, 'h'),\n",
       " (2, 1, 'v'),\n",
       " (2, 2, 'h'),\n",
       " (2, 2, 'v'),\n",
       " (2, 3, 'h'),\n",
       " (2, 3, 'v'),\n",
       " (3, 0, 'h'),\n",
       " (3, 0, 'v'),\n",
       " (3, 1, 'h'),\n",
       " (3, 1, 'v'),\n",
       " (3, 2, 'h'),\n",
       " (3, 2, 'v'),\n",
       " (3, 3, 'h'),\n",
       " (3, 3, 'v')]"
      ]
     },
     "execution_count": 9,
     "metadata": {},
     "output_type": "execute_result"
    }
   ],
   "source": [
    "comb_padroes"
   ]
  },
  {
   "cell_type": "code",
   "execution_count": 10,
   "id": "6d2b982f",
   "metadata": {},
   "outputs": [
    {
     "data": {
      "text/plain": [
       "32"
      ]
     },
     "execution_count": 10,
     "metadata": {},
     "output_type": "execute_result"
    }
   ],
   "source": [
    "len(comb_padroes)"
   ]
  },
  {
   "cell_type": "code",
   "execution_count": 11,
   "id": "ca33e2d4",
   "metadata": {},
   "outputs": [
    {
     "data": {
      "text/plain": [
       "[{'k': 0, 'g': (0, None, None), 'h': 3, 'w': 8, 'p': 0},\n",
       " {'k': 0, 'g': (1, None, None), 'h': 7, 'w': 5, 'p': 0},\n",
       " {'k': 0, 'g': (2, None, None), 'h': 3, 'w': 6, 'p': 0},\n",
       " {'k': 0, 'g': (3, None, None), 'h': 4, 'w': 6, 'p': 0}]"
      ]
     },
     "execution_count": 11,
     "metadata": {},
     "output_type": "execute_result"
    }
   ],
   "source": [
    "padroes[comb[0]]"
   ]
  },
  {
   "cell_type": "code",
   "execution_count": 12,
   "id": "78cd6f64",
   "metadata": {},
   "outputs": [
    {
     "ename": "TypeError",
     "evalue": "list indices must be integers or slices, not str",
     "output_type": "error",
     "traceback": [
      "\u001b[0;31m---------------------------------------------------------------------------\u001b[0m",
      "\u001b[0;31mTypeError\u001b[0m                                 Traceback (most recent call last)",
      "\u001b[0;32m<ipython-input-12-84586c6305c0>\u001b[0m in \u001b[0;36m<module>\u001b[0;34m\u001b[0m\n\u001b[1;32m      1\u001b[0m \u001b[0;32mfor\u001b[0m \u001b[0mcomb\u001b[0m \u001b[0;32min\u001b[0m \u001b[0mcomb_padroes\u001b[0m\u001b[0;34m:\u001b[0m\u001b[0;34m\u001b[0m\u001b[0;34m\u001b[0m\u001b[0m\n\u001b[1;32m      2\u001b[0m     d = calcular_dimensoes(\n\u001b[0;32m----> 3\u001b[0;31m         \u001b[0mh0\u001b[0m\u001b[0;34m=\u001b[0m\u001b[0mpadroes\u001b[0m\u001b[0;34m[\u001b[0m\u001b[0mcomb\u001b[0m\u001b[0;34m[\u001b[0m\u001b[0;36m0\u001b[0m\u001b[0;34m]\u001b[0m\u001b[0;34m]\u001b[0m\u001b[0;34m[\u001b[0m\u001b[0;34m'h'\u001b[0m\u001b[0;34m]\u001b[0m\u001b[0;34m,\u001b[0m\u001b[0;34m\u001b[0m\u001b[0;34m\u001b[0m\u001b[0m\n\u001b[0m\u001b[1;32m      4\u001b[0m         \u001b[0mh1\u001b[0m\u001b[0;34m=\u001b[0m\u001b[0mpadroes\u001b[0m\u001b[0;34m[\u001b[0m\u001b[0mcomb\u001b[0m\u001b[0;34m[\u001b[0m\u001b[0;36m1\u001b[0m\u001b[0;34m]\u001b[0m\u001b[0;34m]\u001b[0m\u001b[0;34m[\u001b[0m\u001b[0;34m'h'\u001b[0m\u001b[0;34m]\u001b[0m\u001b[0;34m,\u001b[0m\u001b[0;34m\u001b[0m\u001b[0;34m\u001b[0m\u001b[0m\n\u001b[1;32m      5\u001b[0m         \u001b[0mw0\u001b[0m\u001b[0;34m=\u001b[0m\u001b[0mpadroes\u001b[0m\u001b[0;34m[\u001b[0m\u001b[0mcomb\u001b[0m\u001b[0;34m[\u001b[0m\u001b[0;36m0\u001b[0m\u001b[0;34m]\u001b[0m\u001b[0;34m]\u001b[0m\u001b[0;34m[\u001b[0m\u001b[0;34m'w'\u001b[0m\u001b[0;34m]\u001b[0m\u001b[0;34m,\u001b[0m\u001b[0;34m\u001b[0m\u001b[0;34m\u001b[0m\u001b[0m\n",
      "\u001b[0;31mTypeError\u001b[0m: list indices must be integers or slices, not str"
     ]
    }
   ],
   "source": [
    "for comb in comb_padroes:\n",
    "    d = calcular_dimensoes(\n",
    "        h0=padroes[comb[0]]['h'], \n",
    "        h1=padroes[comb[1]]['h'], \n",
    "        w0=padroes[comb[0]]['w'], \n",
    "        w1=padroes[comb[1]]['w'], \n",
    "        o=comb[2])\n",
    "\n",
    "    p = calcular_perda_interna(\n",
    "        h0=padroes[comb[0]]['h'], \n",
    "        h1=padroes[comb[1]]['h'], \n",
    "        w0=padroes[comb[0]]['w'], \n",
    "        w1=padroes[comb[1]]['w'], \n",
    "        d=d)\n",
    "    \n",
    "    p_acum = p + padroes[0]['p'] + padroes[1]['p']\n",
    "\n",
    "#     if p_acum < tolerancia:\n",
    "#         if (d['h'] <= chapa['h']) and (d['w'] <= chapa['w']):\n",
    "#             padrao = {}\n",
    "#             padrao['k'] = k\n",
    "#             padrao['g'] = comb\n",
    "#             padrao['h'] = d['h']\n",
    "#             padrao['w'] = d['w']\n",
    "#             padrao['p'] = p_acum\n",
    "#             padroes.append(padrao)\n",
    "        \n",
    "# lst_comb += combinacoes  "
   ]
  },
  {
   "cell_type": "code",
   "execution_count": null,
   "id": "017b026a",
   "metadata": {},
   "outputs": [],
   "source": [
    "len(lst_comb)"
   ]
  },
  {
   "cell_type": "code",
   "execution_count": null,
   "id": "68e6fd87",
   "metadata": {},
   "outputs": [],
   "source": [
    "len(padroes)"
   ]
  },
  {
   "cell_type": "code",
   "execution_count": null,
   "id": "b14b5d91",
   "metadata": {},
   "outputs": [],
   "source": []
  }
 ],
 "metadata": {
  "kernelspec": {
   "display_name": "Python 3",
   "language": "python",
   "name": "python3"
  },
  "language_info": {
   "codemirror_mode": {
    "name": "ipython",
    "version": 3
   },
   "file_extension": ".py",
   "mimetype": "text/x-python",
   "name": "python",
   "nbconvert_exporter": "python",
   "pygments_lexer": "ipython3",
   "version": "3.8.10"
  }
 },
 "nbformat": 4,
 "nbformat_minor": 5
}
