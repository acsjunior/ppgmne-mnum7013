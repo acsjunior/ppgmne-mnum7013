{
 "cells": [
  {
   "cell_type": "code",
   "execution_count": 1,
   "id": "200af13c",
   "metadata": {},
   "outputs": [],
   "source": [
    "from copy import copy"
   ]
  },
  {
   "cell_type": "code",
   "execution_count": 2,
   "id": "2db2b592",
   "metadata": {},
   "outputs": [],
   "source": [
    "S = {'h': 10, 'w': 16}\n",
    "beta = 0.1\n",
    "b = [2,2,2,2]"
   ]
  },
  {
   "cell_type": "code",
   "execution_count": 3,
   "id": "7a5c845e",
   "metadata": {},
   "outputs": [],
   "source": [
    "pi_max = beta*S['h']*S['w']"
   ]
  },
  {
   "cell_type": "code",
   "execution_count": 4,
   "id": "c7369aba",
   "metadata": {},
   "outputs": [
    {
     "data": {
      "text/plain": [
       "16.0"
      ]
     },
     "execution_count": 4,
     "metadata": {},
     "output_type": "execute_result"
    }
   ],
   "source": [
    "pi_max"
   ]
  },
  {
   "cell_type": "code",
   "execution_count": 5,
   "id": "f745ec73",
   "metadata": {},
   "outputs": [],
   "source": [
    "def __validar_T(T, pi_max, b, S):\n",
    "    v1 = sum([T['g'][x] <= b[x] for x in T['g']]) > 0 # verifica respeita b\n",
    "    v2 = T['d']['p'] <= pi_max # verifica se respeita beta\n",
    "    v3 = T['d']['h'] <= S['h'] and T['d']['w'] <= S['w'] # verifica se respeita S\n",
    "    return v1 and v2 and v3\n",
    "    \n",
    "def obter_T(h0, h1, w0, w1, g0, g1, p0, p1, o, pi_max, b, S):\n",
    "    T = {}\n",
    "    T['d'] = {}\n",
    "    if o == 'h':\n",
    "        T['d']['h'] = max(h0, h1)\n",
    "        T['d']['w'] = w0 + w1\n",
    "    else:\n",
    "        T['d']['h'] = h0 + h1\n",
    "        T['d']['w'] = max(w0, w1)\n",
    "        \n",
    "    T['d']['p'] = T['d']['h']*T['d']['w'] - h0*w0 - h1*w1 + p0 + p1\n",
    "    T['g'] = {k: g0.get(k, 0) + g1.get(k, 0) for k in set(g0)}\n",
    "    \n",
    "    return T, __validar_T(T, pi_max, b, S)"
   ]
  },
  {
   "cell_type": "code",
   "execution_count": 6,
   "id": "1dcc2bc1",
   "metadata": {},
   "outputs": [],
   "source": [
    "R = {}\n",
    "R[0] = {'h': 3, 'w': 8}\n",
    "R[1] = {'h': 7, 'w': 5}\n",
    "R[2] = {'h': 3, 'w': 6}\n",
    "R[3] = {'h': 4, 'w': 6}"
   ]
  },
  {
   "cell_type": "code",
   "execution_count": 7,
   "id": "8668ae3a",
   "metadata": {},
   "outputs": [],
   "source": [
    "L = [{}]\n",
    "\n",
    "for i in R:\n",
    "    L[0][i] = {}\n",
    "    L[0][i]['d'] = {}\n",
    "    L[0][i]['d']['h'] = R[i]['h']\n",
    "    L[0][i]['d']['w'] = R[i]['w']\n",
    "    L[0][i]['d']['p'] = 0\n",
    "    L[0][i]['g'] = {}\n",
    "    for j in R:\n",
    "        if i == j:\n",
    "            L[0][i]['g'][j] = 1\n",
    "        else:\n",
    "            L[0][i]['g'][j] = 0\n",
    "    L[0][i]['c'] = (i, None, None)"
   ]
  },
  {
   "cell_type": "code",
   "execution_count": 8,
   "id": "9fba9da3",
   "metadata": {},
   "outputs": [
    {
     "data": {
      "text/plain": [
       "[{0: {'d': {'h': 3, 'w': 8, 'p': 0},\n",
       "   'g': {0: 1, 1: 0, 2: 0, 3: 0},\n",
       "   'c': (0, None, None)},\n",
       "  1: {'d': {'h': 7, 'w': 5, 'p': 0},\n",
       "   'g': {0: 0, 1: 1, 2: 0, 3: 0},\n",
       "   'c': (1, None, None)},\n",
       "  2: {'d': {'h': 3, 'w': 6, 'p': 0},\n",
       "   'g': {0: 0, 1: 0, 2: 1, 3: 0},\n",
       "   'c': (2, None, None)},\n",
       "  3: {'d': {'h': 4, 'w': 6, 'p': 0},\n",
       "   'g': {0: 0, 1: 0, 2: 0, 3: 1},\n",
       "   'c': (3, None, None)}}]"
      ]
     },
     "execution_count": 8,
     "metadata": {},
     "output_type": "execute_result"
    }
   ],
   "source": [
    "L"
   ]
  },
  {
   "cell_type": "code",
   "execution_count": 9,
   "id": "563907b5",
   "metadata": {},
   "outputs": [],
   "source": [
    "F = copy(L)"
   ]
  },
  {
   "cell_type": "code",
   "execution_count": 10,
   "id": "5b0cd6e1",
   "metadata": {},
   "outputs": [
    {
     "data": {
      "text/plain": [
       "[{0: {'d': {'h': 3, 'w': 8, 'p': 0},\n",
       "   'g': {0: 1, 1: 0, 2: 0, 3: 0},\n",
       "   'c': (0, None, None)},\n",
       "  1: {'d': {'h': 7, 'w': 5, 'p': 0},\n",
       "   'g': {0: 0, 1: 1, 2: 0, 3: 0},\n",
       "   'c': (1, None, None)},\n",
       "  2: {'d': {'h': 3, 'w': 6, 'p': 0},\n",
       "   'g': {0: 0, 1: 0, 2: 1, 3: 0},\n",
       "   'c': (2, None, None)},\n",
       "  3: {'d': {'h': 4, 'w': 6, 'p': 0},\n",
       "   'g': {0: 0, 1: 0, 2: 0, 3: 1},\n",
       "   'c': (3, None, None)}}]"
      ]
     },
     "execution_count": 10,
     "metadata": {},
     "output_type": "execute_result"
    }
   ],
   "source": [
    "F"
   ]
  },
  {
   "cell_type": "code",
   "execution_count": 11,
   "id": "3746caa3",
   "metadata": {},
   "outputs": [],
   "source": [
    "k = 0"
   ]
  },
  {
   "cell_type": "code",
   "execution_count": 55,
   "id": "4570ef22",
   "metadata": {},
   "outputs": [
    {
     "name": "stdout",
     "output_type": "stream",
     "text": [
      "Fim!\n"
     ]
    }
   ],
   "source": [
    "if len(F[k]) > 0:\n",
    "    k += 1\n",
    "else:\n",
    "    print('Fim!')"
   ]
  },
  {
   "cell_type": "code",
   "execution_count": 45,
   "id": "fb900067",
   "metadata": {},
   "outputs": [],
   "source": [
    "C = [(i,j,o) for i in F[k-1].keys() for j in F[k-1].keys() for o in ['h', 'v']]\n",
    "\n",
    "if k > 1:\n",
    "    C += [(i,j,o) for i in F[k-1].keys() for j in F[k-2].keys() for o in ['h', 'v']]"
   ]
  },
  {
   "cell_type": "code",
   "execution_count": 46,
   "id": "5218314d",
   "metadata": {},
   "outputs": [
    {
     "data": {
      "text/plain": [
       "6080"
      ]
     },
     "execution_count": 46,
     "metadata": {},
     "output_type": "execute_result"
    }
   ],
   "source": [
    "len(C)"
   ]
  },
  {
   "cell_type": "code",
   "execution_count": 47,
   "id": "71251cf1",
   "metadata": {},
   "outputs": [
    {
     "data": {
      "text/plain": [
       "4"
      ]
     },
     "execution_count": 47,
     "metadata": {},
     "output_type": "execute_result"
    }
   ],
   "source": [
    "k"
   ]
  },
  {
   "cell_type": "code",
   "execution_count": 48,
   "id": "9eec9593",
   "metadata": {},
   "outputs": [],
   "source": [
    "idx = max(list(L[k-1].keys()))\n",
    "F.append({})"
   ]
  },
  {
   "cell_type": "code",
   "execution_count": 49,
   "id": "5973b75c",
   "metadata": {},
   "outputs": [],
   "source": [
    "for c in C:\n",
    "    r0 = L[k-1][c[0]]\n",
    "    r1 = L[k-1][c[1]]\n",
    "    T, valido = obter_T(\n",
    "        h0=r0['d']['h'], \n",
    "        h1=r1['d']['h'], \n",
    "        w0=r0['d']['w'], \n",
    "        w1=r1['d']['w'], \n",
    "        p0=r0['d']['p'],\n",
    "        p1=r1['d']['p'],\n",
    "        g0=r0['g'], \n",
    "        g1=r1['g'],\n",
    "        o=c[2], \n",
    "        pi_max=pi_max, \n",
    "        b=b, \n",
    "        S=S)\n",
    "    if valido:\n",
    "        lst_f = [{'d':F[k][s]['d'], 'g':F[k][s]['g']} for s in F[k]] if len(F[k]) > 0 else []\n",
    "        lst_l = [{'d':L[k-1][r]['d'], 'g': L[k-1][r]['g']} for r in L[k-1]]\n",
    "        if {'d':T['d'], 'g':T['g']} not in lst_l + lst_f:\n",
    "            T['c'] = c\n",
    "            idx += 1\n",
    "            F[k][idx] = T"
   ]
  },
  {
   "cell_type": "code",
   "execution_count": 50,
   "id": "d69f1672",
   "metadata": {},
   "outputs": [],
   "source": [
    "L.append({**L[k-1], **F[k]})"
   ]
  },
  {
   "cell_type": "code",
   "execution_count": 51,
   "id": "91fe1eeb",
   "metadata": {},
   "outputs": [
    {
     "data": {
      "text/plain": [
       "98"
      ]
     },
     "execution_count": 51,
     "metadata": {},
     "output_type": "execute_result"
    }
   ],
   "source": [
    "len(L[k])"
   ]
  },
  {
   "cell_type": "code",
   "execution_count": 52,
   "id": "01f4eb24",
   "metadata": {},
   "outputs": [
    {
     "data": {
      "text/plain": [
       "0"
      ]
     },
     "execution_count": 52,
     "metadata": {},
     "output_type": "execute_result"
    }
   ],
   "source": [
    "len(F[k])"
   ]
  },
  {
   "cell_type": "code",
   "execution_count": 53,
   "id": "763bc168",
   "metadata": {},
   "outputs": [
    {
     "data": {
      "text/plain": [
       "38"
      ]
     },
     "execution_count": 53,
     "metadata": {},
     "output_type": "execute_result"
    }
   ],
   "source": [
    "len(F[k-1])"
   ]
  },
  {
   "cell_type": "code",
   "execution_count": null,
   "id": "71a9b038",
   "metadata": {},
   "outputs": [],
   "source": []
  },
  {
   "cell_type": "code",
   "execution_count": null,
   "id": "98d16af9",
   "metadata": {},
   "outputs": [],
   "source": []
  },
  {
   "cell_type": "code",
   "execution_count": null,
   "id": "56991e11",
   "metadata": {},
   "outputs": [],
   "source": []
  },
  {
   "cell_type": "code",
   "execution_count": null,
   "id": "b0bd545d",
   "metadata": {},
   "outputs": [],
   "source": []
  },
  {
   "cell_type": "code",
   "execution_count": null,
   "id": "feaacdf3",
   "metadata": {},
   "outputs": [],
   "source": []
  },
  {
   "cell_type": "code",
   "execution_count": null,
   "id": "20cb8f56",
   "metadata": {},
   "outputs": [],
   "source": []
  },
  {
   "cell_type": "code",
   "execution_count": null,
   "id": "f8089c20",
   "metadata": {},
   "outputs": [],
   "source": []
  }
 ],
 "metadata": {
  "kernelspec": {
   "display_name": "Python 3",
   "language": "python",
   "name": "python3"
  },
  "language_info": {
   "codemirror_mode": {
    "name": "ipython",
    "version": 3
   },
   "file_extension": ".py",
   "mimetype": "text/x-python",
   "name": "python",
   "nbconvert_exporter": "python",
   "pygments_lexer": "ipython3",
   "version": "3.8.10"
  }
 },
 "nbformat": 4,
 "nbformat_minor": 5
}
